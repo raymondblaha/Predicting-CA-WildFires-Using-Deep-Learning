{
 "cells": [
  {
   "cell_type": "code",
   "execution_count": 1,
   "metadata": {},
   "outputs": [
    {
     "name": "stderr",
     "output_type": "stream",
     "text": [
      "/var/folders/g5/99t7y6l16nld30m4l79m3pzw0000gn/T/ipykernel_53358/1850530541.py:5: DtypeWarning: Columns (18) have mixed types. Specify dtype option on import or set low_memory=False.\n",
      "  data = pd.read_csv('/Volumes/LaCie/Deep_Learning_Final_Project/Machine/data_county_final2.csv')\n"
     ]
    },
    {
     "name": "stdout",
     "output_type": "stream",
     "text": [
      "Data successfully split and saved!\n"
     ]
    }
   ],
   "source": [
    "import pandas as pd\n",
    "from sklearn.model_selection import train_test_split\n",
    "\n",
    "# Load your dataset\n",
    "data = pd.read_csv('/Volumes/LaCie/Deep_Learning_Final_Project/Machine/data_county_final2.csv')\n",
    "\n",
    "# Convert 'date' to datetime if it's not already\n",
    "data['date'] = pd.to_datetime(data['date'])\n",
    "\n",
    "# Sort the data by the 'date' column\n",
    "data.sort_values(by='date', inplace=True)\n",
    "\n",
    "# Define the size of the splits.\n",
    "# Calculate indices for the splits\n",
    "train_size = 0.8\n",
    "val_size = 0.1  # 10% for validation\n",
    "test_size = 0.1  # 10% for test\n",
    "\n",
    "train_end = int(len(data) * train_size)\n",
    "val_end = train_end + int(len(data) * val_size)\n",
    "\n",
    "# Split the data using iloc\n",
    "train_data = data.iloc[:train_end]\n",
    "validation_data = data.iloc[train_end:val_end]\n",
    "test_data = data.iloc[val_end:]\n",
    "\n",
    "# Save the splits into new CSV files\n",
    "train_data.to_csv('/Volumes/LaCie/Deep_Learning_Final_Project/Machine/Training_Final.csv', index=False)\n",
    "validation_data.to_csv('/Volumes/LaCie/Deep_Learning_Final_Project/Machine/Vaildation_Final.csv', index=False)\n",
    "test_data.to_csv('/Volumes/LaCie/Deep_Learning_Final_Project/Machine/Testing_Final.csv', index=False)\n",
    "\n",
    "print(\"Data successfully split and saved!\")\n"
   ]
  }
 ],
 "metadata": {
  "kernelspec": {
   "display_name": "Poopie",
   "language": "python",
   "name": "python3"
  },
  "language_info": {
   "codemirror_mode": {
    "name": "ipython",
    "version": 3
   },
   "file_extension": ".py",
   "mimetype": "text/x-python",
   "name": "python",
   "nbconvert_exporter": "python",
   "pygments_lexer": "ipython3",
   "version": "3.11.3"
  }
 },
 "nbformat": 4,
 "nbformat_minor": 2
}
